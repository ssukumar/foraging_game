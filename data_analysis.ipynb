{
 "cells": [
  {
   "cell_type": "code",
   "execution_count": 153,
   "id": "17402094-7447-4e06-a207-36bee226cc14",
   "metadata": {},
   "outputs": [],
   "source": [
    "import pandas as pd\n",
    "import numpy as np\n",
    "import os\n",
    "from itertools import product\n",
    "import pdb\n",
    "import matplotlib.pyplot as plt"
   ]
  },
  {
   "cell_type": "code",
   "execution_count": 163,
   "id": "cef67156-75bc-4aab-9640-de1a2f6706a4",
   "metadata": {},
   "outputs": [
    {
     "name": "stdout",
     "output_type": "stream",
     "text": [
      "Index(['Subject', 'Block', 'TreeNumber', 'TimeRemaining', 'TimeStamp',\n",
      "       'Action', 'TravelTime', 'RequiredPresses', 'CurrentPresses',\n",
      "       'KeyPressIncreaseRate', 'score'],\n",
      "      dtype='object')\n",
      "RangeIndex(start=0, stop=68947, step=1)\n",
      "Index(['Subject', 'Block', 'TreeNumber', 'TimeRemaining', 'TimeStamp',\n",
      "       'Action', 'TravelTime', 'RequiredPresses', 'CurrentPresses',\n",
      "       'KeyPressIncreaseRate', 'score'],\n",
      "      dtype='object')\n",
      "RangeIndex(start=0, stop=71494, step=1)\n"
     ]
    }
   ],
   "source": [
    "filename_='prolific_dat.csv'\n",
    "\n",
    "data_sf = pd.read_csv(filename_, header = 0)\n",
    "data_sf = data_sf.rename(columns={'Subject ID': 'Subject'})\n",
    "data_sf.Subject =data_sf.Subject.apply(lambda x : x[:-1])\n",
    "print(data_sf.columns)\n",
    "print(data_sf.index)\n",
    "\n",
    "filename_='prolific_dat_longfirst.csv'\n",
    "\n",
    "data_lf = pd.read_csv(filename_, header = 0)\n",
    "data_lf = data_lf.rename(columns={'Subject ID': 'Subject'})\n",
    "data_lf.Subject = data_lf.Subject.apply(lambda x : x[:-1])\n",
    "print(data_lf.columns)\n",
    "print(data_lf.index)"
   ]
  },
  {
   "cell_type": "markdown",
   "id": "978ac836-3063-44f1-8842-6ec0961d99e7",
   "metadata": {},
   "source": [
    "The data collection for pilot data is messed up \n",
    "\n",
    "Needs to be fixed before proceeding"
   ]
  },
  {
   "cell_type": "code",
   "execution_count": 164,
   "id": "6ee2717a-f61b-470a-a18b-59cd0043e902",
   "metadata": {},
   "outputs": [],
   "source": [
    "data_sf['TreeNumberCorrected'] = np.nan\n",
    "\n",
    "treenum = 1\n",
    "\n",
    "for i, ser in data_sf.iterrows():\n",
    "    # print(i)\n",
    "    if i == 0:\n",
    "        data_sf.loc[i, 'TreeNumberCorrected'] = 1\n",
    "        continue\n",
    "\n",
    "    if data_sf.loc[i, 'Block'] != data_sf.loc[i-1, 'Block']:\n",
    "        data_sf.loc[i, 'TreeNumberCorrected'] = 1\n",
    "\n",
    "    elif data_sf.loc[i, 'RequiredPresses'] >= data_sf.loc[i-1, 'RequiredPresses']:\n",
    "        data_sf.loc[i, 'TreeNumberCorrected'] = data_sf.loc[i-1, 'TreeNumberCorrected']\n",
    "    elif data_sf.loc[i, 'RequiredPresses'] < data_sf.loc[i-1, 'RequiredPresses']:\n",
    "\n",
    "        data_sf.loc[i, 'TreeNumberCorrected'] = data_sf.loc[i-1, 'TreeNumberCorrected'] + 1\n",
    "\n",
    "data_sf['TreeNumber'] = data_sf['TreeNumberCorrected']\n",
    "data_sf = data_sf.astype({\"TreeNumber\":int})\n",
    "data_sf.to_csv('prolific_dat_corrected.csv', index = False, header = True)\n"
   ]
  },
  {
   "cell_type": "code",
   "execution_count": 165,
   "id": "0c86729b-31ad-42d5-8f87-539fc4a3f8aa",
   "metadata": {},
   "outputs": [],
   "source": [
    "def resetTreeNum(data):\n",
    "    try:\n",
    "        data['TreeNumber'] = data.groupby([\"Subject\", \"Block\"], group_keys=False)[['TreeNumber']].apply(lambda x: x - np.min(x))\n",
    "    except:\n",
    "        print(\"TreeNumber wasn't in the column list\");\n",
    "    return data"
   ]
  },
  {
   "cell_type": "code",
   "execution_count": 166,
   "id": "8c03bf26-4aad-465c-afaf-60212e46d39e",
   "metadata": {},
   "outputs": [],
   "source": [
    "data_lf = resetTreeNum(data_lf)"
   ]
  },
  {
   "cell_type": "code",
   "execution_count": 172,
   "id": "ef33ab20-af1f-4ce3-8b80-f51ef4fc61e3",
   "metadata": {},
   "outputs": [],
   "source": [
    "def create_condensed_df(data, shortFirst = True):\n",
    "\n",
    "    subjects = data['Subject'].unique()\n",
    "    blocks = [0, 1]\n",
    "    headers =  ['subject', 'env', 'tree', 'tree_type', 'harvest_dur', 'num_harvests', 'difficulty_at_exit', 'score_tree', \n",
    "                'dur_per_harvest', 'num_presses']\n",
    "    har_dur_df_list = []\n",
    "    for subj, block in product(subjects, blocks):\n",
    "        print(f\"Block : {block}, Subj: {subj}\")\n",
    "        subj_df = data[(data['Subject']==subj) & (data['Block'] == block)]\n",
    "        trees = np.unique(subj_df['TreeNumber'])\n",
    "        print(f\"trees: {trees}\")\n",
    "        num_trees = np.max(trees)\n",
    "        harvest_dur = np.zeros((1,np.max(trees)))\n",
    "        prev_score = 0\n",
    "        for tree in trees:\n",
    "            dur_per_harvest = []\n",
    "            num_presses_arr = []\n",
    "            scores_harvest = []\n",
    "            entry_row_idx = subj_df[subj_df['TreeNumber']==tree].index[0]\n",
    "            exit_row_idx = subj_df[subj_df['TreeNumber']==tree].index[-1]\n",
    "            \n",
    "            # check if exit row action is either 'LEAVE' or is the final tree \n",
    "            cond_leave = subj_df.loc[exit_row_idx, 'Action'] == 'LEAVE'\n",
    "            cond_last_tree = subj_df.loc[exit_row_idx, 'TreeNumber'] == num_trees # final tree\n",
    "    \n",
    "            # assert cond_leave or cond_last_tree, 'Error: exit row indexing is wrong!'\n",
    "            # the above condition doesn't work for the pilot as the eventlistener was not removed during the travel space, \n",
    "            # so some spurious \"PRESS\" events were recorded\n",
    "            \n",
    "            timestamp_leave = subj_df.loc[exit_row_idx,'TimeStamp']\n",
    "            timestamp_leave = timestamp_leave.squeeze()\n",
    "            timestamp_enter = subj_df.loc[entry_row_idx,'TimeStamp']\n",
    "            \n",
    "            har_dur = timestamp_leave - timestamp_enter\n",
    "    \n",
    "            if subj_df.loc[entry_row_idx,'KeyPressIncreaseRate']==2:\n",
    "                tree_type = 'good'\n",
    "            else:\n",
    "                tree_type = 'bad'\n",
    "    \n",
    "            difficulty_at_exit = subj_df.loc[exit_row_idx, 'RequiredPresses']\n",
    "            difficulty_at_exit = difficulty_at_exit.squeeze()\n",
    "            print(difficulty_at_exit)\n",
    "    \n",
    "            if subj_df.loc[entry_row_idx, 'Action']=='LEAVE':\n",
    "                num_harvests = 0\n",
    "            else:\n",
    "                unique_harvest_reqs = np.unique(subj_df.loc[entry_row_idx:exit_row_idx, 'RequiredPresses'])\n",
    "                # print(unique_harvest_reqs)\n",
    "                num_harvests = len(unique_harvest_reqs)\n",
    "    \n",
    "                for har in unique_harvest_reqs:\n",
    "                    times_idxs = subj_df[(subj_df['TreeNumber']==tree) & (subj_df['RequiredPresses']==har)].index\n",
    "                    time_dur_har = subj_df['TimeStamp'][times_idxs[-1]] - subj_df['TimeStamp'][times_idxs[0]]\n",
    "                    time_dur_har = int(time_dur_har)\n",
    "                    dur_per_harvest.append(time_dur_har)\n",
    "                    num_presses = subj_df['RequiredPresses'][times_idxs[0]]\n",
    "                    num_presses_arr.append(int(num_presses))\n",
    "                    scores_harvest.append(int(subj_df['score'][times_idx[0]]))\n",
    "    \n",
    "            score_at_exit = subj_df.loc[exit_row_idx, 'score']\n",
    "            score_tree = score_at_exit - prev_score\n",
    "            prev_score = score_at_exit\n",
    "            print(f\"score_tree: {score_tree}\")\n",
    "            har_dur_list = [subj, block, tree, tree_type, har_dur, num_harvests, difficulty_at_exit, score_tree, \n",
    "                            dur_per_harvest, num_presses_arr]\n",
    "            print(har_dur_list)\n",
    "            har_dur_df_list.append(har_dur_list)\n",
    "    \n",
    "    har_dur_df = pd.DataFrame(har_dur_df_list, columns = headers)\n",
    "\n",
    "    if shortFirst:\n",
    "        out_filename = \"har_dur_shortfirst.csv\"\n",
    "    else:\n",
    "        out_filename = \"har_dur_longfirst.csv\"\n",
    "        \n",
    "    har_dur_df.to_csv(out_filename, index=False, header=True)\n"
   ]
  },
  {
   "cell_type": "code",
   "execution_count": null,
   "id": "17c97aea-7ee5-481e-8d32-c16727db8341",
   "metadata": {},
   "outputs": [],
   "source": [
    "create_condensed_df(data_sf, shortFirst = True)"
   ]
  },
  {
   "cell_type": "code",
   "execution_count": null,
   "id": "4ff5cd9b-13ad-45d4-9746-48fd16944c36",
   "metadata": {},
   "outputs": [],
   "source": [
    "create_condensed_df(data_lf, shortFirst = False)"
   ]
  },
  {
   "cell_type": "code",
   "execution_count": null,
   "id": "b70ab838-4987-4d43-802e-fc4572eabfd5",
   "metadata": {},
   "outputs": [],
   "source": []
  }
 ],
 "metadata": {
  "kernelspec": {
   "display_name": "Python 3 (ipykernel)",
   "language": "python",
   "name": "python3"
  },
  "language_info": {
   "codemirror_mode": {
    "name": "ipython",
    "version": 3
   },
   "file_extension": ".py",
   "mimetype": "text/x-python",
   "name": "python",
   "nbconvert_exporter": "python",
   "pygments_lexer": "ipython3",
   "version": "3.11.0"
  }
 },
 "nbformat": 4,
 "nbformat_minor": 5
}
