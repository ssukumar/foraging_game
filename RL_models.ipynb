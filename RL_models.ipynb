{
 "cells": [
  {
   "cell_type": "markdown",
   "id": "096cae24-4823-457b-ad97-a935a5abda98",
   "metadata": {},
   "source": [
    "# Testing the RL-simple and RL-avgRR models (Wittman et al; 2015) for the foraging protocol\n",
    "\n",
    "Difference between this and the foraging protocol is that they have intermediate LSD- leave stay decision points. Value (or predicition error, depending on the model) signals at these points constitute the decision variable \n"
   ]
  },
  {
   "cell_type": "code",
   "execution_count": null,
   "id": "2ae161e9-e1d2-4853-885e-6e84e1fd780c",
   "metadata": {},
   "outputs": [],
   "source": [
    "import numpy as np\n",
    "import pandas as pd\n",
    "import os "
   ]
  },
  {
   "cell_type": "code",
   "execution_count": null,
   "id": "c3ea5419-4cfd-471b-908a-26e8095ec18d",
   "metadata": {},
   "outputs": [],
   "source": [
    "# Parameters for RL-simple\n",
    "alpha = 0.6 # learning rate\n",
    "beta = 1 # temperature parameter \n",
    "\n",
    "# parameters of the game \n",
    "effort_increment = 2\n",
    "init_req_effort = 1\n",
    "num_apples = 10 \n",
    "Tstep = 1\n",
    "Tmax = 10000\n",
    "Tinit = 1\n",
    "stay_press = 0\n",
    "leave_cost  = 5 # arbitrary value\n",
    "\n",
    "# Q value initialization\n",
    "Qstay = np.zeros(1, Tmax)\n",
    "Qleave = np.zeros(1, Tmax)\n",
    "value = np.zeros(1, Tmax) "
   ]
  },
  {
   "cell_type": "code",
   "execution_count": null,
   "id": "3a8f9b69-e1e6-4381-ae68-030a46467203",
   "metadata": {},
   "outputs": [],
   "source": [
    "# RL -simple, adapted from Wittman. No future rewards to go added \n",
    "\n",
    "for t in range(Tinit, Tmax, Tstep):\n",
    "    \n",
    "    # stay value\n",
    "    if stay_press < req_press:\n",
    "        reward = 0\n",
    "    else:\n",
    "        reward = num_apples \n",
    "        stay_presses= 0 \n",
    "        req_press += effort_increment\n",
    "\n",
    "    value[t] = value[t-1] + alpha *( (reward - stay_press) - value[t-1])\n",
    "        \n",
    "    # leave value \n",
    "    \n",
    "    \n",
    "\n",
    "    # Decision variable at time step "
   ]
  }
 ],
 "metadata": {
  "kernelspec": {
   "display_name": "Python 3 (ipykernel)",
   "language": "python",
   "name": "python3"
  },
  "language_info": {
   "codemirror_mode": {
    "name": "ipython",
    "version": 3
   },
   "file_extension": ".py",
   "mimetype": "text/x-python",
   "name": "python",
   "nbconvert_exporter": "python",
   "pygments_lexer": "ipython3",
   "version": "3.11.0"
  }
 },
 "nbformat": 4,
 "nbformat_minor": 5
}
